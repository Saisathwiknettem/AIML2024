{
  "nbformat": 4,
  "nbformat_minor": 0,
  "metadata": {
    "colab": {
      "provenance": []
    },
    "kernelspec": {
      "name": "python3",
      "display_name": "Python 3"
    },
    "language_info": {
      "name": "python"
    }
  },
  "cells": [
    {
      "cell_type": "code",
      "execution_count": 2,
      "metadata": {
        "colab": {
          "base_uri": "https://localhost:8080/"
        },
        "id": "U8aA1aXwdyvt",
        "outputId": "b343d287-fbc1-4da9-a0e4-470a26e6503d"
      },
      "outputs": [
        {
          "output_type": "stream",
          "name": "stdout",
          "text": [
            "  age\\theight\n",
            "0     12\\t115\n",
            "1     13\\t130\n",
            "2     46\\t167\n",
            "3     20\\t145\n",
            "4     34\\t153\n"
          ]
        }
      ],
      "source": [
        "import pandas as pd\n",
        "df_tsv = pd.read_csv(\"/content/2203A51499- Sheet1.tsv\")\n",
        "print(df_tsv)"
      ]
    },
    {
      "cell_type": "code",
      "source": [
        "df_csv = pd.read_csv(\"/content/2203A51499- Sheet1.csv\")\n",
        "print(df_csv)"
      ],
      "metadata": {
        "colab": {
          "base_uri": "https://localhost:8080/"
        },
        "id": "x-spXVf8d6L_",
        "outputId": "0c266eca-6671-4cdc-f70c-aaa60e29657a"
      },
      "execution_count": 3,
      "outputs": [
        {
          "output_type": "stream",
          "name": "stdout",
          "text": [
            "   age  height\n",
            "0   12     115\n",
            "1   13     130\n",
            "2   46     167\n",
            "3   20     145\n",
            "4   34     153\n"
          ]
        }
      ]
    },
    {
      "cell_type": "code",
      "source": [
        "df_xlsx = pd.read_excel(\"/content/2203A51499.xlsx\")\n",
        "print(df_xlsx)"
      ],
      "metadata": {
        "colab": {
          "base_uri": "https://localhost:8080/"
        },
        "id": "bgA2IiP_d6ZU",
        "outputId": "1122b468-350f-49e8-839f-843b82229e4e"
      },
      "execution_count": 4,
      "outputs": [
        {
          "output_type": "stream",
          "name": "stdout",
          "text": [
            "   age  height\n",
            "0   12     115\n",
            "1   13     130\n",
            "2   46     167\n",
            "3   20     145\n",
            "4   34     153\n"
          ]
        }
      ]
    },
    {
      "cell_type": "code",
      "source": [
        "url = \"https://github.com/Saisathwiknettem/Aiml-task-3.git\"\n",
        "df_url = pd.read_csv(url,'\\t')\n",
        "print(df_url)"
      ],
      "metadata": {
        "colab": {
          "base_uri": "https://localhost:8080/"
        },
        "id": "U9blRErMd-J3",
        "outputId": "32adaff3-0efb-4840-ae79-78af9899f764"
      },
      "execution_count": 6,
      "outputs": [
        {
          "output_type": "stream",
          "name": "stderr",
          "text": [
            "<ipython-input-6-15dccca4cf75>:2: FutureWarning: In a future version of pandas all arguments of read_csv except for the argument 'filepath_or_buffer' will be keyword-only.\n",
            "  df_url = pd.read_csv(url,'\\t')\n"
          ]
        },
        {
          "output_type": "stream",
          "name": "stdout",
          "text": [
            "                                        <!DOCTYPE html>\n",
            "0                                                 <html\n",
            "1                                             lang=\"en\"\n",
            "2       data-color-mode=\"auto\" data-light-theme=\"lig...\n",
            "3       data-a11y-animated-images=\"system\" data-a11y...\n",
            "4                                                     >\n",
            "...                                                 ...\n",
            "1260                                             </div>\n",
            "1261      <div id=\"js-global-screen-reader-notice\" c...\n",
            "1262      <div id=\"js-global-screen-reader-notice-as...\n",
            "1263                                            </body>\n",
            "1264                                            </html>\n",
            "\n",
            "[1265 rows x 1 columns]\n"
          ]
        }
      ]
    },
    {
      "cell_type": "markdown",
      "source": [],
      "metadata": {
        "id": "XfolC3rqiI6U"
      }
    }
  ]
}